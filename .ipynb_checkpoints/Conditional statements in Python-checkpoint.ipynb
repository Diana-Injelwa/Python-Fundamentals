{
 "cells": [
  {
   "cell_type": "markdown",
   "id": "6c33f12d",
   "metadata": {},
   "source": [
    "Conditional statements allows us to control the flow of our program based on certain conditions. The most common conditional statements in Python include 'if', 'else' and 'elif'.\n",
    "### ' if ' statement\n",
    "Excecutes a block of code if the specified condition is true\n"
   ]
  },
  {
   "cell_type": "code",
   "execution_count": 1,
   "id": "f073dfac",
   "metadata": {},
   "outputs": [
    {
     "name": "stdout",
     "output_type": "stream",
     "text": [
      "x is greater than 10\n"
     ]
    }
   ],
   "source": [
    "x = 20\n",
    "\n",
    "if x > 10:\n",
    "    print('x is greater than 10')"
   ]
  },
  {
   "cell_type": "markdown",
   "id": "96548e83",
   "metadata": {},
   "source": [
    "### ' if-else ' statement\n",
    " Allows us to specify two blocks of code, one to be executed if the condition is true and another if the condition is false"
   ]
  },
  {
   "cell_type": "code",
   "execution_count": 2,
   "id": "0eb1222e",
   "metadata": {},
   "outputs": [
    {
     "name": "stdout",
     "output_type": "stream",
     "text": [
      "C is not greater than V\n"
     ]
    }
   ],
   "source": [
    "ice_cream = 'Chocolate'\n",
    "\n",
    "if ice_cream > 'Vanilla':\n",
    "    print('C is greater than V')\n",
    "else:\n",
    "    print('C is not greater than V')"
   ]
  },
  {
   "cell_type": "markdown",
   "id": "01f4a0fb",
   "metadata": {},
   "source": [
    "#### ' if- elif-else ' statement\n",
    "Allows us to check multiple conditions and excecute different blocks of code based on the first true condition encounter."
   ]
  },
  {
   "cell_type": "code",
   "execution_count": 3,
   "id": "2c7fbd42",
   "metadata": {},
   "outputs": [
    {
     "name": "stdout",
     "output_type": "stream",
     "text": [
      "x is greater than 15 but less than 20\n"
     ]
    }
   ],
   "source": [
    "x = 17\n",
    "\n",
    "if x > 20:\n",
    "    print('x is greater than 20')\n",
    "elif x > 15:\n",
    "    print('x is greater than 15 but less than 20')\n",
    "else:\n",
    "    print('x is 15 or less')"
   ]
  },
  {
   "cell_type": "code",
   "execution_count": null,
   "id": "a12d57c9",
   "metadata": {},
   "outputs": [],
   "source": []
  }
 ],
 "metadata": {
  "kernelspec": {
   "display_name": "Python 3 (ipykernel)",
   "language": "python",
   "name": "python3"
  },
  "language_info": {
   "codemirror_mode": {
    "name": "ipython",
    "version": 3
   },
   "file_extension": ".py",
   "mimetype": "text/x-python",
   "name": "python",
   "nbconvert_exporter": "python",
   "pygments_lexer": "ipython3",
   "version": "3.11.5"
  }
 },
 "nbformat": 4,
 "nbformat_minor": 5
}
