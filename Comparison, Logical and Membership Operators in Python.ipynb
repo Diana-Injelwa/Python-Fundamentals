{
 "cells": [
  {
   "cell_type": "markdown",
   "id": "ff080397",
   "metadata": {},
   "source": [
    "In Python, comparison, logical and membership operators are used to perform different operations on variables and values.\n",
    "#### Comparison Operators\n",
    "They are used to compaare two values and return a Boolean result(True or False). Most common comparison operators include:\n",
    "#### Equal ( == )\n",
    "Returns True if the values on both sides are equal."
   ]
  },
  {
   "cell_type": "code",
   "execution_count": 1,
   "id": "386775fe",
   "metadata": {},
   "outputs": [
    {
     "data": {
      "text/plain": [
       "True"
      ]
     },
     "execution_count": 1,
     "metadata": {},
     "output_type": "execute_result"
    }
   ],
   "source": [
    "20 == 20"
   ]
  },
  {
   "cell_type": "markdown",
   "id": "757550a6",
   "metadata": {},
   "source": [
    "#### Not Equal ( != )\n",
    "Returns True if the values on both sides are not equal"
   ]
  },
  {
   "cell_type": "code",
   "execution_count": 2,
   "id": "ee0df9a4",
   "metadata": {},
   "outputs": [
    {
     "data": {
      "text/plain": [
       "True"
      ]
     },
     "execution_count": 2,
     "metadata": {},
     "output_type": "execute_result"
    }
   ],
   "source": [
    "10 != 50"
   ]
  },
  {
   "cell_type": "markdown",
   "id": "24002383",
   "metadata": {},
   "source": [
    "#### Less than ( <)\n",
    "Returns True if the value on the left side is less than the value on the right side."
   ]
  },
  {
   "cell_type": "code",
   "execution_count": 3,
   "id": "1aea3663",
   "metadata": {},
   "outputs": [
    {
     "data": {
      "text/plain": [
       "True"
      ]
     },
     "execution_count": 3,
     "metadata": {},
     "output_type": "execute_result"
    }
   ],
   "source": [
    "15 < 100"
   ]
  },
  {
   "cell_type": "markdown",
   "id": "4799778d",
   "metadata": {},
   "source": [
    "#### Less than or equal to ( <= )\n",
    "Returns True if the value on the left side is less than or equal to the value on the right side."
   ]
  },
  {
   "cell_type": "code",
   "execution_count": 4,
   "id": "16cbdf8e",
   "metadata": {},
   "outputs": [
    {
     "data": {
      "text/plain": [
       "True"
      ]
     },
     "execution_count": 4,
     "metadata": {},
     "output_type": "execute_result"
    }
   ],
   "source": [
    "25 <= 50"
   ]
  },
  {
   "cell_type": "markdown",
   "id": "908726b0",
   "metadata": {},
   "source": [
    "#### Greater than (>)\n",
    "Returns True if the value on the left side is greater than the value on the right side."
   ]
  },
  {
   "cell_type": "code",
   "execution_count": 6,
   "id": "0a2a7163",
   "metadata": {},
   "outputs": [
    {
     "data": {
      "text/plain": [
       "True"
      ]
     },
     "execution_count": 6,
     "metadata": {},
     "output_type": "execute_result"
    }
   ],
   "source": [
    "x = 120\n",
    "y = 85\n",
    "\n",
    "x > y"
   ]
  },
  {
   "cell_type": "markdown",
   "id": "6ba87697",
   "metadata": {},
   "source": [
    "#### Greater than or equal to ( >= )\n",
    "Returns True if the value on the left side is greater or equal to the value on the right side"
   ]
  },
  {
   "cell_type": "code",
   "execution_count": 7,
   "id": "5a90ba3d",
   "metadata": {},
   "outputs": [
    {
     "data": {
      "text/plain": [
       "True"
      ]
     },
     "execution_count": 7,
     "metadata": {},
     "output_type": "execute_result"
    }
   ],
   "source": [
    "ice_cream_1 = 'Vanilla'\n",
    "ice_cream_2 = 'Chocolate'\n",
    "\n",
    "ice_cream_1 >= ice_cream_2"
   ]
  },
  {
   "cell_type": "markdown",
   "id": "264fd05e",
   "metadata": {},
   "source": [
    "#### Logical Operators\n",
    "Logical operators are used to perform logical operations on Boolean values. They include:\n",
    "#### 'and'\n",
    "Returns True if both conditions are true"
   ]
  },
  {
   "cell_type": "code",
   "execution_count": 8,
   "id": "a2d5254d",
   "metadata": {},
   "outputs": [
    {
     "data": {
      "text/plain": [
       "True"
      ]
     },
     "execution_count": 8,
     "metadata": {},
     "output_type": "execute_result"
    }
   ],
   "source": [
    "(70 > 50) and (50 > 10)"
   ]
  },
  {
   "cell_type": "markdown",
   "id": "4bf47846",
   "metadata": {},
   "source": [
    "#### 'or'\n",
    "Returns True if one of the conditions is true"
   ]
  },
  {
   "cell_type": "code",
   "execution_count": 10,
   "id": "5f8ddf72",
   "metadata": {},
   "outputs": [
    {
     "data": {
      "text/plain": [
       "True"
      ]
     },
     "execution_count": 10,
     "metadata": {},
     "output_type": "execute_result"
    }
   ],
   "source": [
    "(10 > 50) or (50 > 10)"
   ]
  },
  {
   "cell_type": "markdown",
   "id": "719692eb",
   "metadata": {},
   "source": [
    "#### 'not'\n",
    "Reverses the results. That is returns False if the result is true."
   ]
  },
  {
   "cell_type": "code",
   "execution_count": 12,
   "id": "fcd6cce3",
   "metadata": {},
   "outputs": [
    {
     "data": {
      "text/plain": [
       "False"
      ]
     },
     "execution_count": 12,
     "metadata": {},
     "output_type": "execute_result"
    }
   ],
   "source": [
    "not ('Vanilla' > 'Chocolate')"
   ]
  },
  {
   "cell_type": "markdown",
   "id": "f28e2e4e",
   "metadata": {},
   "source": [
    "#### Membership Operators\n",
    "They are used to check whether a value or variable is a member of a sequence (such as string, list or tuple). Common membership operators in Python include:\n",
    "#### 'in'\n",
    "Returns True if a value is found in the sequence"
   ]
  },
  {
   "cell_type": "code",
   "execution_count": 13,
   "id": "a86db5b9",
   "metadata": {},
   "outputs": [
    {
     "data": {
      "text/plain": [
       "True"
      ]
     },
     "execution_count": 13,
     "metadata": {},
     "output_type": "execute_result"
    }
   ],
   "source": [
    "flavours = ['Strawberry', 'Vanilla Swirl', 'Chocolate Chip', 'Cookies and Cream', 'Salted Caramel']\n",
    "favourite_flavour = 'Salted Caramel'\n",
    "\n",
    "favourite_flavour in flavours\n"
   ]
  },
  {
   "cell_type": "markdown",
   "id": "7b72e67c",
   "metadata": {},
   "source": [
    "#### 'not in'\n",
    "Returns True if a value is not found in the sequence"
   ]
  },
  {
   "cell_type": "code",
   "execution_count": 14,
   "id": "65fd9882",
   "metadata": {},
   "outputs": [
    {
     "data": {
      "text/plain": [
       "True"
      ]
     },
     "execution_count": 14,
     "metadata": {},
     "output_type": "execute_result"
    }
   ],
   "source": [
    "scoops = (1, 2, 3, 4, 5)\n",
    "6 not in scoops"
   ]
  },
  {
   "cell_type": "code",
   "execution_count": null,
   "id": "06b6e36e",
   "metadata": {},
   "outputs": [],
   "source": []
  }
 ],
 "metadata": {
  "kernelspec": {
   "display_name": "Python 3 (ipykernel)",
   "language": "python",
   "name": "python3"
  },
  "language_info": {
   "codemirror_mode": {
    "name": "ipython",
    "version": 3
   },
   "file_extension": ".py",
   "mimetype": "text/x-python",
   "name": "python",
   "nbconvert_exporter": "python",
   "pygments_lexer": "ipython3",
   "version": "3.11.5"
  }
 },
 "nbformat": 4,
 "nbformat_minor": 5
}
