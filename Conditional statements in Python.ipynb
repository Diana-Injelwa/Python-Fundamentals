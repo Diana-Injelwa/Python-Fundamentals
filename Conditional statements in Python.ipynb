{
 "cells": [
  {
   "cell_type": "markdown",
   "id": "6c33f12d",
   "metadata": {},
   "source": [
    "Conditional statements allows us to control the flow of our program based on certain conditions. The most common conditional statements in Python include 'if', 'else' and 'elif'.\n",
    "### ' if ' statement\n",
    "Excecutes a block of code if the specified condition is true\n"
   ]
  },
  {
   "cell_type": "code",
   "execution_count": 1,
   "id": "f073dfac",
   "metadata": {},
   "outputs": [
    {
     "name": "stdout",
     "output_type": "stream",
     "text": [
      "x is greater than 10\n"
     ]
    }
   ],
   "source": [
    "# Assigning the value 20 to variable 'x'.\n",
    "x = 20\n",
    "\n",
    "# Checking if the value of 'x' is greater than 10.\n",
    "if x > 10:\n",
    "    # Specify the message to be printed if the condition is True.\n",
    "    print('x is greater than 10')"
   ]
  },
  {
   "cell_type": "markdown",
   "id": "96548e83",
   "metadata": {},
   "source": [
    "### ' if-else ' statement\n",
    " Allows us to specify two blocks of code, one to be executed if the condition is true and another if the condition is false"
   ]
  },
  {
   "cell_type": "code",
   "execution_count": 2,
   "id": "0eb1222e",
   "metadata": {},
   "outputs": [
    {
     "name": "stdout",
     "output_type": "stream",
     "text": [
      "C is not greater than V\n"
     ]
    }
   ],
   "source": [
    "# Assign the string  value 'Chocolate' to the variable 'ice_cream'.\n",
    "ice_cream = 'Chocolate'\n",
    "\n",
    "# Check if the lexicographic order of the string 'ice_cream' is greater than the string 'Vanilla'.\n",
    "if ice_cream > 'Vanilla':\n",
    "    # Specify the message to be printed if the condition is True.\n",
    "    print('C is greater than V')\n",
    "else:\n",
    "    # Specify the  message to be printed if the condition is False.\n",
    "    print('C is not greater than V')"
   ]
  },
  {
   "cell_type": "markdown",
   "id": "01f4a0fb",
   "metadata": {},
   "source": [
    "#### ' if- elif-else ' statement\n",
    "Allows us to check multiple conditions and excecute different blocks of code based on the first True condition encounter."
   ]
  },
  {
   "cell_type": "code",
   "execution_count": 3,
   "id": "2c7fbd42",
   "metadata": {},
   "outputs": [
    {
     "name": "stdout",
     "output_type": "stream",
     "text": [
      "x is greater than 15 but less than 20\n"
     ]
    }
   ],
   "source": [
    "# Assign  the value 17 to the variable 'x' .\n",
    "x = 17\n",
    "\n",
    "# Check if the value of 'x' is greater than 20.\n",
    "if x > 20:\n",
    "    # Specify the messange to be printed if the condition is True.\n",
    "    print('x is greater than 20')\n",
    "# If the first condition is False, check if the value of 'x' is greater than 15.\n",
    "elif x > 15:\n",
    "    # Specify the messange to be printed if the  second condition is True.\n",
    "    print('x is greater than 15 but less than 20')\n",
    "else:\n",
    "    # Specify the message to be printed if both conditions are False\n",
    "    print('x is 15 or less')"
   ]
  },
  {
   "cell_type": "markdown",
   "id": "a060e192",
   "metadata": {},
   "source": [
    "#### Practice Question\n",
    "[You can find this question on Python if-elif-else statements on HackerRank](https://www.hackerrank.com/challenges/py-if-else/problem?isFullScreen=true)\n",
    "\n",
    "#### Question\n",
    "Given an integer 'n', perform the following conditional actions:\n",
    " - If 'n' is odd, print 'Weird'\n",
    " - If 'n' is even and in the inclusive range of 2 to 5 , print 'Not Weird'\n",
    " - If 'n' is even and in the inclusive range of 6 to 20 , print 'Weird'\n",
    " - If 'n'  is even and greater than 20, print 'Not Weird'"
   ]
  },
  {
   "cell_type": "code",
   "execution_count": 4,
   "id": "333cec3b",
   "metadata": {},
   "outputs": [
    {
     "name": "stdout",
     "output_type": "stream",
     "text": [
      "Input is outside the allowed range [1, 100].\n"
     ]
    }
   ],
   "source": [
    "# Take user input, convert it to an integer and assign it to the variable 'n'.\n",
    "n = int(input(\"Enter an integer between 1 and 100: \"))\n",
    "\n",
    "\"\"\" We check if an integer is odd or even using the modulo operator '%'.\n",
    "If the result of 'n % 2' is equal to one then the number is odd else the number is even\n",
    "\"\"\"\n",
    "\n",
    "# Check if 'n' is within the allowed range [1, 100].\n",
    "if 1 <= n <= 100:\n",
    "    # Check if 'n' is odd.\n",
    "    if n % 2 != 0:\n",
    "        # Specify the message to be printed if 'n' is odd.\n",
    "        print(\"Weird\")\n",
    "    # Check if 'n' is even and falls within the range [2, 5].\n",
    "    elif n % 2 == 0 and 2 <= n <= 5:\n",
    "        # Specify the message to be printed if the above condition is True.\n",
    "        print(\"Not Weird\")\n",
    "    # Check if 'n' is even and falls within the range [6, 20].\n",
    "    elif n % 2 == 0 and 6 <= n <= 20:\n",
    "        # Specify the message to be printed if the above code evaluates to True.\n",
    "        print(\"Weird\")\n",
    "    # Check if 'n' is even and greater than 20.\n",
    "    elif n % 2 == 0 and n > 20:\n",
    "        # Specify the message to be printed if the above condition is True.\n",
    "        print(\"Not Weird\")\n",
    "else:\n",
    "    # Specify the message to be printed is 'n' is outside the range [1, 100]\n",
    "    print(\"Input is outside the allowed range [1, 100].\")"
   ]
  }
 ],
 "metadata": {
  "kernelspec": {
   "display_name": "Python 3 (ipykernel)",
   "language": "python",
   "name": "python3"
  },
  "language_info": {
   "codemirror_mode": {
    "name": "ipython",
    "version": 3
   },
   "file_extension": ".py",
   "mimetype": "text/x-python",
   "name": "python",
   "nbconvert_exporter": "python",
   "pygments_lexer": "ipython3",
   "version": "3.11.5"
  }
 },
 "nbformat": 4,
 "nbformat_minor": 5
}
