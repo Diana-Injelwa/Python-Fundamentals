{
 "cells": [
  {
   "cell_type": "markdown",
   "id": "6ece3d27",
   "metadata": {},
   "source": [
    "## Definition\n",
    "Data types are classifications that categorize the values a variable can take. These classifications tell us what operations can be performed on our data.\n",
    "#### Main data types within Python\n",
    " - Numeric\n",
    " - Boolean \n",
    " - Sequence type\n",
    " - Set\n",
    " - Dictionaries\n",
    "#### Numeric data types\n",
    "There are three types of numeric data types\n",
    " - Integers\n",
    " - Floats\n",
    " - Complex numbers"
   ]
  },
  {
   "cell_type": "code",
   "execution_count": 1,
   "id": "552ca8fb",
   "metadata": {},
   "outputs": [
    {
     "data": {
      "text/plain": [
       "int"
      ]
     },
     "execution_count": 1,
     "metadata": {},
     "output_type": "execute_result"
    }
   ],
   "source": [
    "# Integers are positive or negative whole nnumbers\n",
    "x = 12\n",
    "type(x)\n",
    "\n",
    "y = -12\n",
    "type(y)\n"
   ]
  },
  {
   "cell_type": "code",
   "execution_count": 2,
   "id": "cee77060",
   "metadata": {},
   "outputs": [
    {
     "data": {
      "text/plain": [
       "float"
      ]
     },
     "execution_count": 2,
     "metadata": {},
     "output_type": "execute_result"
    }
   ],
   "source": [
    "# Floats, often referred to as floating-point are numbers with a fractional part\n",
    "pi_constant = 3.14\n",
    "type(pi_constant)"
   ]
  },
  {
   "cell_type": "code",
   "execution_count": 3,
   "id": "fc01810f",
   "metadata": {},
   "outputs": [
    {
     "data": {
      "text/plain": [
       "complex"
      ]
     },
     "execution_count": 3,
     "metadata": {},
     "output_type": "execute_result"
    }
   ],
   "source": [
    "# Complex data type is used for imaginary numbers. letter 'j' is used as the imaginary number\n",
    "z = 12 + 3j\n",
    "type(z)"
   ]
  },
  {
   "cell_type": "code",
   "execution_count": 4,
   "id": "5e6c5c3b",
   "metadata": {},
   "outputs": [
    {
     "data": {
      "text/plain": [
       "bool"
      ]
     },
     "execution_count": 4,
     "metadata": {},
     "output_type": "execute_result"
    }
   ],
   "source": [
    "# Boolean data type has only two built-in values; True or False\n",
    "expr_1 = 1 > 5\n",
    "type(expr_1 )"
   ]
  },
  {
   "cell_type": "markdown",
   "id": "22faa198",
   "metadata": {},
   "source": [
    "### Sequence type data types\n",
    "That includes\n",
    " - Strings\n",
    " - Lists\n",
    " - Tuples\n",
    "#### Strings\n",
    " - In Python, string data type is used to represent text or character data.\n",
    " - Strings are enclosed in either single quotes (' '), double quotes (\" \") or \n",
    "   triple quotes (\"\"\" \"\"\")\n",
    " "
   ]
  },
  {
   "cell_type": "code",
   "execution_count": 6,
   "id": "89b57128",
   "metadata": {},
   "outputs": [
    {
     "data": {
      "text/plain": [
       "str"
      ]
     },
     "execution_count": 6,
     "metadata": {},
     "output_type": "execute_result"
    }
   ],
   "source": [
    "# Using single quotes\n",
    "favourite_flavour = 'Salted caramel is my favaourite ice cream flavour'\n",
    "type(favourite_flavour)\n",
    "\n",
    "# Using double quotes\n",
    "second_favourite = \"Vanilla swirl is my second favourite ice cream flavour\"\n",
    "type(second_favourite)\n",
    "\n",
    "# Multiline strings using triple quotes\n",
    "brands = \"\"\"\n",
    "Salted caramel is my favourite ice cream flavour from dairyland\n",
    "Classic vanilla is my favourite ice cream flavour from creambell\n",
    "Lemon and Lime is my favourite ice cream flavour from lyons maid\n",
    "\n",
    "\"\"\"\n",
    "type(brands )"
   ]
  },
  {
   "cell_type": "markdown",
   "id": "2f2e5291",
   "metadata": {},
   "source": [
    "Strings are immutable, that is they cannot be modified after they are created. However, we can perform various operations on strings such as concatenation and slicing"
   ]
  },
  {
   "cell_type": "code",
   "execution_count": 9,
   "id": "f88935f0",
   "metadata": {},
   "outputs": [
    {
     "name": "stdout",
     "output_type": "stream",
     "text": [
      "Salted caramel is my favaourite ice cream flavour while Vanilla swirl is my second favourite ice cream flavour\n",
      "Salted\n"
     ]
    }
   ],
   "source": [
    "# Concatenation\n",
    "top_2_flavours = favourite_flavour + \" while \" + second_favourite\n",
    "print(top_2_flavours )\n",
    "\n",
    "# Slicing\n",
    "sub_string = top_2_flavours[0:6] # Returns the first six characters\n",
    "print(sub_string )"
   ]
  },
  {
   "cell_type": "markdown",
   "id": "ff4fb41f",
   "metadata": {},
   "source": [
    "Python also provides a set of functions for manipulating strings such as 'len()', 'upper()' and 'lower()'"
   ]
  },
  {
   "cell_type": "code",
   "execution_count": 12,
   "id": "d3faad2e",
   "metadata": {},
   "outputs": [
    {
     "name": "stdout",
     "output_type": "stream",
     "text": [
      "110\n",
      "SALTED CARAMEL IS MY FAVAOURITE ICE CREAM FLAVOUR WHILE VANILLA SWIRL IS MY SECOND FAVOURITE ICE CREAM FLAVOUR\n",
      "salted caramel is my favaourite ice cream flavour while vanilla swirl is my second favourite ice cream flavour\n",
      "Salted caramel is my favaourite ice cream flavour while vanilla swirl is my second favourite ice cream flavour\n"
     ]
    }
   ],
   "source": [
    "# Get the length of the string\n",
    "print(len(top_2_flavours))\n",
    "\n",
    "# Convert to uppercase\n",
    "print(top_2_flavours.upper())\n",
    "\n",
    "# Convert to lowercase\n",
    "print(top_2_flavours.lower())\n",
    "\n",
    "# Replace characters\n",
    "print(top_2_flavours.replace('V', 'v'))"
   ]
  },
  {
   "cell_type": "markdown",
   "id": "a68a1870",
   "metadata": {},
   "source": [
    "#### Lists\n",
    " - A list is an ordered collection of elementswhich can be of different data types They are defined by enclosing the element in square brackets '[]' and separating the    with commas (,)\n",
    " - Lists are mutable, that is we  can modify them by adding or removing elements after we have created them\n"
   ]
  },
  {
   "cell_type": "code",
   "execution_count": 13,
   "id": "3b6daf43",
   "metadata": {},
   "outputs": [
    {
     "name": "stdout",
     "output_type": "stream",
     "text": [
      "['Diana', 170, 'White']\n"
     ]
    }
   ],
   "source": [
    "brief_description = ['Diana', 170, 'White']\n",
    "print(brief_description)"
   ]
  },
  {
   "cell_type": "markdown",
   "id": "73fc47d9",
   "metadata": {},
   "source": [
    "Basic operations that can be performed on lists"
   ]
  },
  {
   "cell_type": "code",
   "execution_count": 20,
   "id": "29d81077",
   "metadata": {},
   "outputs": [
    {
     "data": {
      "text/plain": [
       "5"
      ]
     },
     "execution_count": 20,
     "metadata": {},
     "output_type": "execute_result"
    }
   ],
   "source": [
    "# Returns the first element in the list\n",
    "brief_description[0]\n",
    "\n",
    "# Returns the last element in the list\n",
    "brief_description[-1]\n",
    "\n",
    "# Slicing\n",
    "# Get a sublist from index 0 to 1 (excluding 2)\n",
    "brief_description[0:2] \n",
    "\n",
    "# Modifying elements\n",
    "# Changing the value at index 0\n",
    "brief_description[0] = 'Injelwa'\n",
    "\n",
    "# Adding elements\n",
    "# append() function adds an element at the end of the list\n",
    "brief_description.append('Pasta')\n",
    "brief_description\n",
    "\n",
    "# Checking the length of a list\n",
    "len(brief_description)"
   ]
  },
  {
   "cell_type": "markdown",
   "id": "3fbe8c09",
   "metadata": {},
   "source": [
    "#### Tuples\n",
    " - A tuple is an ordered and immutable(they cannot be modified once its created) collection of elements.\n",
    " - Tuples are defined by enclosing the elements in parentheses '()' and separating them with commas.\n",
    " - Tuples are often used when the order of elements matters and the data should remain constant throughout the program."
   ]
  },
  {
   "cell_type": "code",
   "execution_count": 21,
   "id": "36346a02",
   "metadata": {},
   "outputs": [
    {
     "data": {
      "text/plain": [
       "tuple"
      ]
     },
     "execution_count": 21,
     "metadata": {},
     "output_type": "execute_result"
    }
   ],
   "source": [
    "ice_cream_scoops = (1, 2, 3, 'Salted caramel', 'Vanilla', 'Choc chip')\n",
    "type(ice_cream_scoops)"
   ]
  },
  {
   "cell_type": "markdown",
   "id": "79c6a852",
   "metadata": {},
   "source": [
    "Basic operations that can be performed on tuples"
   ]
  },
  {
   "cell_type": "code",
   "execution_count": 25,
   "id": "0efcfaa2",
   "metadata": {},
   "outputs": [
    {
     "data": {
      "text/plain": [
       "(1,\n",
       " 2,\n",
       " 3,\n",
       " 'Salted caramel',\n",
       " 'Vanilla',\n",
       " 'Choc chip',\n",
       " 'Dairyland',\n",
       " 'Creambell',\n",
       " 'Lyons Maid')"
      ]
     },
     "execution_count": 25,
     "metadata": {},
     "output_type": "execute_result"
    }
   ],
   "source": [
    "# Indexing\n",
    "# Returns the first element\n",
    "ice_cream_scoops[0]\n",
    "\n",
    "# Returns the last element\n",
    "ice_cream_scoops[-1]\n",
    "\n",
    "# Slicing \n",
    "# Returns a subtuple from index 1 to 3 (excluding 4)\n",
    "ice_cream_scoops[1:4]\n",
    "\n",
    "# Tuple Concatenation\n",
    "flavour_brands = ice_cream_scoops + ('Dairyland', 'Creambell', 'Lyons Maid')\n",
    "flavour_brands"
   ]
  },
  {
   "cell_type": "markdown",
   "id": "0a310915",
   "metadata": {},
   "source": [
    "#### Sets\n",
    " - A set is an unordered and mutable collection of unique elements\n",
    " - Sets are defined by enclosing the elements in curly bracketa '{}'\n",
    " - Duplicate elements are not allowed in sets and the values within a set cannot be accessed using an index because sets are unordered\n",
    " - They are often used when comparing two separate sets"
   ]
  },
  {
   "cell_type": "code",
   "execution_count": 26,
   "id": "4b8da475",
   "metadata": {},
   "outputs": [
    {
     "data": {
      "text/plain": [
       "set"
      ]
     },
     "execution_count": 26,
     "metadata": {},
     "output_type": "execute_result"
    }
   ],
   "source": [
    "# Creating a set named top_3_brands with a mix of numeric and string elements\n",
    "top_3_brands = {1, 2, 3, 'Dairyland', 'Creambell', 'Lyons Maid'}\n",
    "\n",
    "# Determining the data type of the set using the type() function\n",
    "type(top_3_brands)"
   ]
  },
  {
   "cell_type": "code",
   "execution_count": 27,
   "id": "e5e25ef6",
   "metadata": {},
   "outputs": [],
   "source": [
    "# Creating a set named top_4_flavours with a mix of numeric and string elements\n",
    "# This set represents a collection of top 4 ice cream flavors, including both numeric identifiers and flavor names.\n",
    "top_4_flavors = { 1, 2, 3, 4, 'Salted caramel', 'Vanilla swirl', 'Chocolate', 'Classic vanilla'}"
   ]
  },
  {
   "cell_type": "code",
   "execution_count": 28,
   "id": "4e7d39ed",
   "metadata": {},
   "outputs": [
    {
     "name": "stdout",
     "output_type": "stream",
     "text": [
      "{'Creambell', 1, 2, 3, 'Chocolate', 4, 'Vanilla swirl', 'Dairyland', 'Classic vanilla', 'Salted caramel', 'Lyons Maid'}\n"
     ]
    }
   ],
   "source": [
    "\"\"\"\n",
    "Performing a union operation on sets top_3_brands and top_4_flavours using the '|' operator\n",
    "The union of sets combines elements from both sets, removing duplicates, to create a new set.\n",
    "\"\"\"\n",
    "print(top_3_brands | top_4_flavours)"
   ]
  },
  {
   "cell_type": "code",
   "execution_count": 29,
   "id": "b1587563",
   "metadata": {},
   "outputs": [
    {
     "name": "stdout",
     "output_type": "stream",
     "text": [
      "{1, 2, 3}\n"
     ]
    }
   ],
   "source": [
    "\"\"\"\n",
    "Performing an intersection operation on sets top_3_brands and top_4_flavours using the '&' operator\n",
    "The intersection of sets includes only the common elements between the two sets.\n",
    "The result represents a set containing elements that exist in both top_3_brands and top_4_flavours.\n",
    "\"\"\"\n",
    "print(top_3_brands & top_4_flavours)"
   ]
  },
  {
   "cell_type": "code",
   "execution_count": 30,
   "id": "12a2fe05",
   "metadata": {},
   "outputs": [
    {
     "name": "stdout",
     "output_type": "stream",
     "text": [
      "{'Chocolate', 4, 'Creambell', 'Vanilla swirl', 'Classic vanilla', 'Dairyland', 'Salted caramel', 'Lyons Maid'}\n"
     ]
    }
   ],
   "source": [
    "\"\"\"\n",
    "Performing a symmetric difference operation on sets top_3_brands and top_4_flavours using the '^' operator\n",
    "The symmetric difference of sets includes elements that are unique to each set, excluding common elements.\n",
    "The result represents a set containing elements that exist in either top_3_brands or top_4_flavours, but not both.\n",
    "\"\"\"\n",
    "print(top_3_brands ^ top_4_flavours)"
   ]
  },
  {
   "cell_type": "markdown",
   "id": "3af30c4f",
   "metadata": {},
   "source": [
    "#### Dictionaries\n",
    " - A dictionary is a mutable and unordered collection of key-value pairs.\n",
    " - Each key in a dictionary must be unique.\n",
    " - Dictionaries are defined using curly brackets '{}' and key-value pairs separated by colons ':'.\n"
   ]
  },
  {
   "cell_type": "code",
   "execution_count": 38,
   "id": "ddeb0e92",
   "metadata": {},
   "outputs": [
    {
     "name": "stdout",
     "output_type": "stream",
     "text": [
      "{'name': 'Keyshia Hope', 'grade': 4, 'favorite subjects': ['French', 'Coding and robotics', 'Art']}\n"
     ]
    },
    {
     "data": {
      "text/plain": [
       "dict"
      ]
     },
     "execution_count": 38,
     "metadata": {},
     "output_type": "execute_result"
    }
   ],
   "source": [
    "student_info = {'name': 'Keyshia Hope', 'grade': 4, 'favorite subjects': ['French', 'Coding and robotics', 'Art']}\n",
    "print(student_info)\n",
    "type(student_info)"
   ]
  },
  {
   "cell_type": "markdown",
   "id": "46f9e058",
   "metadata": {},
   "source": [
    "Basic operation related to dictionaries include:"
   ]
  },
  {
   "cell_type": "code",
   "execution_count": 32,
   "id": "83492691",
   "metadata": {},
   "outputs": [
    {
     "data": {
      "text/plain": [
       "dict_keys(['name', 'Grade', 'favorite subjects'])"
      ]
     },
     "execution_count": 32,
     "metadata": {},
     "output_type": "execute_result"
    }
   ],
   "source": [
    "# Returns a list of all keys\n",
    "student_info.keys()"
   ]
  },
  {
   "cell_type": "code",
   "execution_count": 33,
   "id": "5de46545",
   "metadata": {},
   "outputs": [
    {
     "data": {
      "text/plain": [
       "dict_values(['Keyshia Hope', 4, ['French', 'Coding and robotics', 'Art']])"
      ]
     },
     "execution_count": 33,
     "metadata": {},
     "output_type": "execute_result"
    }
   ],
   "source": [
    "# Returns a list of all values\n",
    "student_info.values()"
   ]
  },
  {
   "cell_type": "code",
   "execution_count": 34,
   "id": "99f81883",
   "metadata": {},
   "outputs": [
    {
     "data": {
      "text/plain": [
       "dict_items([('name', 'Keyshia Hope'), ('Grade', 4), ('favorite subjects', ['French', 'Coding and robotics', 'Art'])])"
      ]
     },
     "execution_count": 34,
     "metadata": {},
     "output_type": "execute_result"
    }
   ],
   "source": [
    "# Returns a list of key-value pairs\n",
    "student_info.items()"
   ]
  },
  {
   "cell_type": "code",
   "execution_count": 35,
   "id": "7fa36180",
   "metadata": {},
   "outputs": [
    {
     "data": {
      "text/plain": [
       "'Keyshia Hope'"
      ]
     },
     "execution_count": 35,
     "metadata": {},
     "output_type": "execute_result"
    }
   ],
   "source": [
    "# Getting the value associated with the key 'name'\n",
    "student_info['name']\n"
   ]
  },
  {
   "cell_type": "code",
   "execution_count": 36,
   "id": "583bb300",
   "metadata": {},
   "outputs": [
    {
     "name": "stdout",
     "output_type": "stream",
     "text": [
      "{'name': 'Abigael Job', 'Grade': 4, 'favorite subjects': ['French', 'Coding and robotics', 'Art']}\n"
     ]
    }
   ],
   "source": [
    "# Update the value associated with the key 'name'\n",
    "student_info['name'] = 'Abigael Job'\n",
    "\n",
    "print(student_info)\n"
   ]
  },
  {
   "cell_type": "code",
   "execution_count": 37,
   "id": "8ee0ef43",
   "metadata": {},
   "outputs": [
    {
     "name": "stdout",
     "output_type": "stream",
     "text": [
      "{'name': 'Abigael Job', 'Grade': 4, 'favorite subjects': ['French', 'Coding and robotics', 'Art'], 'gender': 'Female'}\n"
     ]
    }
   ],
   "source": [
    "# Adding a new key-value pair\n",
    "student_info['gender'] = 'Female'\n",
    "\n",
    "print(student_info)"
   ]
  },
  {
   "cell_type": "code",
   "execution_count": 39,
   "id": "6e148973",
   "metadata": {},
   "outputs": [
    {
     "name": "stdout",
     "output_type": "stream",
     "text": [
      "{'name': 'Keyshia Hope', 'favorite subjects': ['French', 'Coding and robotics', 'Art']}\n"
     ]
    }
   ],
   "source": [
    "# Removing the key-value pair with the key 'grade'\n",
    "del student_info['grade']\n",
    "\n",
    "print(student_info)"
   ]
  },
  {
   "cell_type": "code",
   "execution_count": null,
   "id": "fddf2e17",
   "metadata": {},
   "outputs": [],
   "source": []
  }
 ],
 "metadata": {
  "kernelspec": {
   "display_name": "Python 3 (ipykernel)",
   "language": "python",
   "name": "python3"
  },
  "language_info": {
   "codemirror_mode": {
    "name": "ipython",
    "version": 3
   },
   "file_extension": ".py",
   "mimetype": "text/x-python",
   "name": "python",
   "nbconvert_exporter": "python",
   "pygments_lexer": "ipython3",
   "version": "3.11.5"
  }
 },
 "nbformat": 4,
 "nbformat_minor": 5
}
