{
 "cells": [
  {
   "cell_type": "markdown",
   "id": "638ac76e",
   "metadata": {},
   "source": [
    " - A function is a block of code that performs a specific task.\n",
    " - We define a function using the 'def' keyword followed by the name of the function.\n",
    " \n",
    "#### Passing an argument in a function"
   ]
  },
  {
   "cell_type": "code",
   "execution_count": 30,
   "id": "97f57cd1",
   "metadata": {},
   "outputs": [
    {
     "name": "stdout",
     "output_type": "stream",
     "text": [
      "159 kcal raised to power 2:  25281  calories\n"
     ]
    }
   ],
   "source": [
    "def calories_burned(kcal):\n",
    "    result = kcal**2\n",
    "    return result\n",
    "\n",
    "total_squared_cals = calories_burned(159)\n",
    "print('159 kcal raised to power 2: ', total_squared_cals, ' calories')"
   ]
  },
  {
   "cell_type": "markdown",
   "id": "fc089805",
   "metadata": {},
   "source": [
    "#### Passing multiple arguments"
   ]
  },
  {
   "cell_type": "code",
   "execution_count": 11,
   "id": "d7f7c9ae",
   "metadata": {},
   "outputs": [
    {
     "data": {
      "text/plain": [
       "25281"
      ]
     },
     "execution_count": 11,
     "metadata": {},
     "output_type": "execute_result"
    }
   ],
   "source": [
    "def calories_squared(kcal, power):\n",
    "    result = kcal**power\n",
    "    return result\n",
    "\n",
    "calories_squared(159,2)"
   ]
  },
  {
   "cell_type": "markdown",
   "id": "42f0df8f",
   "metadata": {},
   "source": [
    "#### Passing arbitary arguments"
   ]
  },
  {
   "cell_type": "code",
   "execution_count": 28,
   "id": "42374556",
   "metadata": {},
   "outputs": [
    {
     "name": "stdout",
     "output_type": "stream",
     "text": [
      "Product of distance covered on the first 2 days:  4.098599999999999\n"
     ]
    }
   ],
   "source": [
    "weekly_distance = (1.98, 2.07, 2,23, 2,29)\n",
    "\n",
    "def outdoor_walking(*distance):\n",
    "    result = distance[0]*distance[1]\n",
    "    return result\n",
    "\n",
    "total_distance = outdoor_walking(*weekly_distance)\n",
    "print('Product of distance covered on the first 2 days: ', total_distance)"
   ]
  },
  {
   "cell_type": "markdown",
   "id": "b3a0d53f",
   "metadata": {},
   "source": [
    "#### Keyword argument\n"
   ]
  },
  {
   "cell_type": "code",
   "execution_count": 27,
   "id": "5f173a5e",
   "metadata": {},
   "outputs": [
    {
     "name": "stdout",
     "output_type": "stream",
     "text": [
      "159 kcal raised to power 3:  4019679\n"
     ]
    }
   ],
   "source": [
    "def calories_cubed(kcal, power):\n",
    "    result = kcal**power\n",
    "    return result\n",
    "\n",
    "total_cubed_calories = calories_cubed(kcal = 159, power = 3)\n",
    "print('159 kcal raised to power 3: ', total_cubed_calories)"
   ]
  },
  {
   "cell_type": "markdown",
   "id": "cff12d5c",
   "metadata": {},
   "source": [
    "#### Global vs Local Variables\n",
    " - A global variable is defined outside of any function and can be accessed from any scope including within a function\n",
    " - A local variable is defined within a function and can only be accessed within that scope"
   ]
  },
  {
   "cell_type": "code",
   "execution_count": 13,
   "id": "e8a10033",
   "metadata": {},
   "outputs": [
    {
     "name": "stdout",
     "output_type": "stream",
     "text": [
      "distance (km):  2.18\n",
      "time (hr):  0.43333333333333335\n",
      "Speed inside function (km/hr):  0.94\n",
      "Speed outside the function (km/hr):  0.55\n"
     ]
    }
   ],
   "source": [
    "speed = 0.55 # This is a global variable because its defined outside of the function walhing_speed\n",
    "def walking_speed(distance, time):\n",
    "    print(\"distance (km): \", distance)\n",
    "    print(\"time (hr): \", time)\n",
    "\n",
    "    speed = distance * time # This is a local variable because its defined within the function and can only be used within this scope\n",
    "    print(\"Speed inside function (km/hr): \", round(speed, 2))\n",
    "    return speed\n",
    "\n",
    "walking_speed(distance = 2.18, time = (26/60))\n",
    "print(\"Speed outside the function (km/hr): \", speed)\n"
   ]
  }
 ],
 "metadata": {
  "kernelspec": {
   "display_name": "Python 3 (ipykernel)",
   "language": "python",
   "name": "python3"
  },
  "language_info": {
   "codemirror_mode": {
    "name": "ipython",
    "version": 3
   },
   "file_extension": ".py",
   "mimetype": "text/x-python",
   "name": "python",
   "nbconvert_exporter": "python",
   "pygments_lexer": "ipython3",
   "version": "3.11.5"
  }
 },
 "nbformat": 4,
 "nbformat_minor": 5
}
