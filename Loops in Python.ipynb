{
 "cells": [
  {
   "cell_type": "markdown",
   "metadata": {},
   "source": [
    "#### For Loops\n",
    " - For loops are used to iterate over a sequence such as (list, tuple or dictionary.)\n",
    " - We indicate the start of a loop using the keyword ('for').\n",
    " \n",
    "Examples of using 'for' loops in Python:\n",
    "#### Iterating over a List"
   ]
  },
  {
   "cell_type": "code",
   "execution_count": 2,
   "metadata": {},
   "outputs": [
    {
     "name": "stdout",
     "output_type": "stream",
     "text": [
      "Mango\n",
      "Grapes\n",
      "Kiwi\n"
     ]
    }
   ],
   "source": [
    "favourite_fruits = ['Mango', 'Grapes', 'Kiwi']\n",
    "\n",
    "for fruit in favourite_fruits:\n",
    "    print(fruit)"
   ]
  },
  {
   "cell_type": "markdown",
   "metadata": {},
   "source": [
    "#### Iterating over a Dictionary"
   ]
  },
  {
   "cell_type": "code",
   "execution_count": 3,
   "metadata": {},
   "outputs": [
    {
     "name": "stdout",
     "output_type": "stream",
     "text": [
      "Diana\n",
      "5\n",
      "['Salted Caramel', 'Vanilla Swril', 'Classic Vanilla']\n"
     ]
    }
   ],
   "source": [
    "ice_cream_intake = {'name': 'Diana', 'Number of scoops': 5, 'favorite_flavors': ['Salted Caramel', 'Vanilla Swril', 'Classic Vanilla']}\n",
    "\n",
    "for record in ice_cream_intake.values():\n",
    "    print(record)"
   ]
  },
  {
   "cell_type": "code",
   "execution_count": 4,
   "metadata": {},
   "outputs": [
    {
     "name": "stdout",
     "output_type": "stream",
     "text": [
      "name\n",
      "Number of scoops\n",
      "favorite_flavors\n"
     ]
    }
   ],
   "source": [
    "for record in ice_cream_intake.keys():\n",
    "    print(record)"
   ]
  },
  {
   "cell_type": "code",
   "execution_count": 5,
   "metadata": {},
   "outputs": [
    {
     "name": "stdout",
     "output_type": "stream",
     "text": [
      "name -> Diana\n",
      "Number of scoops -> 5\n",
      "favorite_flavors -> ['Salted Caramel', 'Vanilla Swril', 'Classic Vanilla']\n"
     ]
    }
   ],
   "source": [
    "for key, value in ice_cream_intake.items():\n",
    "    print(key, '->', value)"
   ]
  },
  {
   "cell_type": "markdown",
   "metadata": {},
   "source": [
    "#### Nested for loops"
   ]
  },
  {
   "cell_type": "code",
   "execution_count": 1,
   "metadata": {},
   "outputs": [
    {
     "name": "stdout",
     "output_type": "stream",
     "text": [
      "Salted Caramel topped with Oreos\n",
      "Salted Caramel topped with Marshmellows\n",
      "Salted Caramel topped with Hot Fudge\n",
      "Vanilla topped with Oreos\n",
      "Vanilla topped with Marshmellows\n",
      "Vanilla topped with Hot Fudge\n",
      "Chocolate topped with Oreos\n",
      "Chocolate topped with Marshmellows\n",
      "Chocolate topped with Hot Fudge\n"
     ]
    }
   ],
   "source": [
    "flavors = ['Salted Caramel', 'Vanilla', 'Chocolate']\n",
    "toppings = ['Oreos', 'Marshmellows', 'Hot Fudge']\n",
    "\n",
    "for flavor in flavors:\n",
    "    for topping in toppings:\n",
    "        print(flavor, 'topped with', topping)"
   ]
  }
 ],
 "metadata": {
  "kernelspec": {
   "display_name": "Python 3 (ipykernel)",
   "language": "python",
   "name": "python3"
  },
  "language_info": {
   "codemirror_mode": {
    "name": "ipython",
    "version": 3
   },
   "file_extension": ".py",
   "mimetype": "text/x-python",
   "name": "python",
   "nbconvert_exporter": "python",
   "pygments_lexer": "ipython3",
   "version": "3.11.5"
  }
 },
 "nbformat": 4,
 "nbformat_minor": 2
}
