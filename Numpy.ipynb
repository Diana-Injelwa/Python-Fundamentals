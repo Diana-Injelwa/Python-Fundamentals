{
 "cells": [
  {
   "cell_type": "markdown",
   "metadata": {},
   "source": [
    " - Numpy module is used for scientific computing\n",
    " - Numpy's most useful object is n-dimensional array(ndarray)\n",
    "\n",
    "#### Benefits of using a numpy array\n",
    " - It uses less memory\n",
    " - It is fast\n",
    " - It's convinient"
   ]
  },
  {
   "cell_type": "code",
   "execution_count": null,
   "metadata": {},
   "outputs": [],
   "source": [
    "# importing the numpy module\n",
    "import numpy as np\n",
    "\n",
    "# Create a 1-dimensional array\n",
    "a1 = np.array([1,2,3])\n",
    "a2 = np.array([4,5,6])\n",
    "\n",
    "# Perform basic operations on arrays\n",
    "a1+a2  # Addition\n",
    "a1-a2  # Subtraction\n",
    "a1* a2 # Multiplication\n",
    "a1/a2 # Division\n"
   ]
  },
  {
   "cell_type": "code",
   "execution_count": null,
   "metadata": {},
   "outputs": [],
   "source": [
    "\n",
    "# Create 2-dimensional array\n",
    "a = np.array([\n",
    "    [1,2],\n",
    "    [3,4],\n",
    "    [5,6]])\n",
    "\n",
    "# Return the dimension of 'a'\n",
    "a.ndim"
   ]
  },
  {
   "cell_type": "code",
   "execution_count": null,
   "metadata": {},
   "outputs": [],
   "source": [
    "# Print the byte size of eachh element in 'a'\n",
    "a.itemsize"
   ]
  },
  {
   "cell_type": "code",
   "execution_count": null,
   "metadata": {},
   "outputs": [],
   "source": [
    "# Check current data type of 'a'\n",
    "a.dtype"
   ]
  },
  {
   "cell_type": "code",
   "execution_count": null,
   "metadata": {},
   "outputs": [],
   "source": [
    "# Initialize 'a' with a different data type and store into a variable 'b'\n",
    "b = np.array([\n",
    "    [1,2],\n",
    "    [3,4],\n",
    "    [5,6]], dtype=np.float64)\n",
    "\n",
    "b.itemsize"
   ]
  },
  {
   "cell_type": "code",
   "execution_count": null,
   "metadata": {},
   "outputs": [],
   "source": [
    "# Check the total number of elements in 'b'\n",
    "b.size"
   ]
  },
  {
   "cell_type": "code",
   "execution_count": null,
   "metadata": {},
   "outputs": [],
   "source": [
    "# check for the dimension  of 'b' in terms of rows and columns\n",
    "b.shape"
   ]
  },
  {
   "cell_type": "code",
   "execution_count": null,
   "metadata": {},
   "outputs": [],
   "source": [
    "# Initialize an array with zeros (mention the shape ie the dimension)\n",
    "np.zeros((3,4))"
   ]
  },
  {
   "cell_type": "code",
   "execution_count": null,
   "metadata": {},
   "outputs": [],
   "source": [
    "# Generate an array using 'arange' function\n",
    "np.arange(1,5)"
   ]
  },
  {
   "cell_type": "code",
   "execution_count": null,
   "metadata": {},
   "outputs": [],
   "source": [
    "# Generate an array which is linearly spaced\n",
    "np.linspace(1,5,4)"
   ]
  },
  {
   "cell_type": "code",
   "execution_count": null,
   "metadata": {},
   "outputs": [],
   "source": [
    "# Reshaping an array\n",
    "a\n",
    "a.reshape(2,3)"
   ]
  },
  {
   "cell_type": "code",
   "execution_count": null,
   "metadata": {},
   "outputs": [],
   "source": [
    "# Flattening an array using ravel function\n",
    "a.ravel()"
   ]
  },
  {
   "cell_type": "code",
   "execution_count": null,
   "metadata": {},
   "outputs": [],
   "source": [
    "# Mathematical functions\n",
    "a.min()     # Prints the minimum element in thhe array\n",
    "a.max()     # Prints maximum element\n",
    "a.sum()     # Sums all the elements. Specify the axis; axis=0 is columns, axis=1 is rows\n",
    "np.sqrt(a)  # computes the square root of elements\n",
    "np.std(a)   # Compute the standard deviation of all elements\n",
    " "
   ]
  },
  {
   "cell_type": "code",
   "execution_count": 16,
   "metadata": {},
   "outputs": [],
   "source": [
    "# Basic operations on 2 arrarys\n",
    "a = np.array([[1,2], [3,4]])\n",
    "b = np.array([[5,6], [7,8]])"
   ]
  },
  {
   "cell_type": "code",
   "execution_count": null,
   "metadata": {},
   "outputs": [],
   "source": [
    "a+b       # Add individual elements\n",
    "a*b       # Multiplication\n",
    "a/b       # Division\n",
    "a.dot(b)  # Matrix product"
   ]
  },
  {
   "cell_type": "code",
   "execution_count": null,
   "metadata": {},
   "outputs": [],
   "source": [
    "# Slicing and Indexing\n",
    "# It is similar to slicing Python lists\n",
    "x = np.array([\n",
    "    [6,7,8],\n",
    "    [1,2,3],\n",
    "    [9,3,2]])\n",
    "\n",
    "x[1:2]\n",
    "x[:,2]"
   ]
  },
  {
   "cell_type": "code",
   "execution_count": null,
   "metadata": {},
   "outputs": [],
   "source": [
    "# Iterating through arrays\n",
    "for row in x:\n",
    "    print(row)"
   ]
  },
  {
   "cell_type": "code",
   "execution_count": null,
   "metadata": {},
   "outputs": [],
   "source": [
    "# Flatten the array and print every cell\n",
    "for cell in x.flat:\n",
    "    print(cell)"
   ]
  },
  {
   "cell_type": "markdown",
   "metadata": {},
   "source": [
    "Stacking 2 arrays together"
   ]
  },
  {
   "cell_type": "code",
   "execution_count": null,
   "metadata": {},
   "outputs": [],
   "source": [
    "a = np.arange(6).reshape(3,2)\n",
    "b = np.arange(6,12).reshape(3,2)\n",
    "\n",
    "print(a)\n",
    "print(b)"
   ]
  },
  {
   "cell_type": "code",
   "execution_count": null,
   "metadata": {},
   "outputs": [],
   "source": [
    "# Use NumPy's vstack() function to vertically stack two arrays 'a' and 'b'.\n",
    "\n",
    "np.vstack((a,b))"
   ]
  },
  {
   "cell_type": "code",
   "execution_count": null,
   "metadata": {},
   "outputs": [],
   "source": [
    "# Use NumPy's hstack() function to horizontally stack two arrays 'a' and 'b'\n",
    "np.hstack((a,b))"
   ]
  }
 ],
 "metadata": {
  "kernelspec": {
   "display_name": "base",
   "language": "python",
   "name": "python3"
  },
  "language_info": {
   "codemirror_mode": {
    "name": "ipython",
    "version": 3
   },
   "file_extension": ".py",
   "mimetype": "text/x-python",
   "name": "python",
   "nbconvert_exporter": "python",
   "pygments_lexer": "ipython3",
   "version": "3.11.5"
  }
 },
 "nbformat": 4,
 "nbformat_minor": 2
}
