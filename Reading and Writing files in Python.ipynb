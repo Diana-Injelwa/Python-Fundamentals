{
 "cells": [
  {
   "cell_type": "markdown",
   "metadata": {},
   "source": [
    "We can create a new file and write to it using open() statement. Within the parentheses, the first parameter is the complete path of the file and the second parameter is the mode in which you want to open the file.\n",
    "\n",
    "#### File open modes\n",
    " - r: Opens file for reading only. Throws an error if the file does not exist.\n",
    " - w: Opens file for writing only. If the file doesn't exist, it creates a new one. If the file already exists, it overwrites the existing file.\n",
    " - r+: Opens file for both reading and writing.\n",
    " - w+: Opens file for both writing and reading. If file doesn't exist, it creates a new file and overwrites it if it already exists.\n",
    " - a: Opens file in append mode. New changes will be appended and original content will not be overwritten."
   ]
  },
  {
   "cell_type": "code",
   "execution_count": 18,
   "metadata": {},
   "outputs": [],
   "source": [
    "# Open the file \"funny.txt\" in write mode (\"w\")\n",
    "f = open(\"C:\\\\Users\\\\admin\\\\OneDrive\\\\Desktop\\\\Python\\\\funny.txt\", \"w\")\n",
    "\n",
    "# Write to the file\n",
    "f.write(\"Teacher: Why are you late for school today?\\n\"\n",
    "        \"Student: Because I saw the sign.\\n\"\n",
    "        \"Teacher: What sign?\\n\"\n",
    "        \"Student: The one that says 'School ahead, go slow'\")\n",
    "\n",
    "# Closing the file to save changes\n",
    "f.close()"
   ]
  },
  {
   "cell_type": "code",
   "execution_count": 19,
   "metadata": {},
   "outputs": [
    {
     "name": "stdout",
     "output_type": "stream",
     "text": [
      "Teacher: Why are you late for school today?\n",
      "Student: Because I saw the sign.\n",
      "Teacher: What sign?\n",
      "Student: The one that says 'School ahead, go slow'\n"
     ]
    }
   ],
   "source": [
    "# Open the file \"funny.txt\" in read mode (\"r\") using a 'with' statement.\n",
    "# The 'with' statement ensures that the file is properly closed after reading.\n",
    "with open(\"C:\\\\Users\\\\admin\\\\OneDrive\\\\Desktop\\\\Python\\\\funny.txt\", \"r\") as funny_text:\n",
    "\n",
    "    # Read the content of the file into the variable 'data'\n",
    "    data = funny_text.read()\n",
    "\n",
    "# Print the content of the file    \n",
    "print(data)"
   ]
  },
  {
   "cell_type": "code",
   "execution_count": 22,
   "metadata": {},
   "outputs": [],
   "source": [
    "# # Open the file \"funny.txt\" in append mode (\"a\")\n",
    "f = open(\"C:\\\\Users\\\\admin\\\\OneDrive\\\\Desktop\\\\Python\\\\funny.txt\", \"a\")\n",
    "\n",
    "# Append a new line to the existing content of the file\n",
    "f.write(\"\\nTeacher: Frank, the sign is a caution to drivers who overspeed.\")\n",
    "\n",
    "# Close the file to save changes\n",
    "f.close()"
   ]
  },
  {
   "cell_type": "code",
   "execution_count": 23,
   "metadata": {},
   "outputs": [
    {
     "name": "stdout",
     "output_type": "stream",
     "text": [
      "Teacher: Why are you late for school today?\n",
      "Student: Because I saw the sign.\n",
      "Teacher: What sign?\n",
      "Student: The one that says 'School ahead, go slow'\n",
      "Teacher: Frank, the sign is a caution to drivers who overspeed.\n"
     ]
    }
   ],
   "source": [
    "# Open the file \"funny.txt\" in read mode (\"r\") using a 'with' statement\n",
    "with open(\"C:\\\\Users\\\\admin\\\\OneDrive\\\\Desktop\\\\Python\\\\funny.txt\", \"r\") as funny_text:\n",
    "   # Read the updated content of the file into the variable 'appended_data\n",
    "    appended_data = funny_text.read()\n",
    "\n",
    "# Print the updated content of the file\n",
    "print(appended_data)"
   ]
  }
 ],
 "metadata": {
  "kernelspec": {
   "display_name": "base",
   "language": "python",
   "name": "python3"
  },
  "language_info": {
   "codemirror_mode": {
    "name": "ipython",
    "version": 3
   },
   "file_extension": ".py",
   "mimetype": "text/x-python",
   "name": "python",
   "nbconvert_exporter": "python",
   "pygments_lexer": "ipython3",
   "version": "3.11.5"
  }
 },
 "nbformat": 4,
 "nbformat_minor": 2
}
