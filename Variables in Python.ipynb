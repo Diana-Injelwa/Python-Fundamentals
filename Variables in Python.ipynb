{
 "cells": [
  {
   "cell_type": "markdown",
   "id": "813ab21e",
   "metadata": {},
   "source": [
    "## Definition\n",
    " - A variable is a named location in a computer's memory where we can store data and later retrieve the data using the variable name.\n",
    " - We assign a value to a variable using the assignment operator (=)."
   ]
  },
  {
   "cell_type": "code",
   "execution_count": 1,
   "id": "c325c50c",
   "metadata": {},
   "outputs": [
    {
     "name": "stdout",
     "output_type": "stream",
     "text": [
      "22\n"
     ]
    }
   ],
   "source": [
    "# Assigning the value 22 to the variable x\n",
    "x = 22\n",
    "\n",
    "# Printing the value of x\n",
    "print(x)"
   ]
  },
  {
   "cell_type": "code",
   "execution_count": 2,
   "id": "47756c53",
   "metadata": {},
   "outputs": [
    {
     "name": "stdout",
     "output_type": "stream",
     "text": [
      "Mint chocolate chip\n"
     ]
    }
   ],
   "source": [
    "# Assigning the string value 'Mint chocolate chip' to the variable ice_cream_flavour\n",
    "ice_cream_flavour = 'Mint chocolate chip'\n",
    "\n",
    "# Printing the value of ice_cream_flavour\n",
    "print(ice_cream_flavour)"
   ]
  },
  {
   "cell_type": "markdown",
   "id": "407902fc",
   "metadata": {},
   "source": [
    "### Checking the 'Type' of a variable\n",
    "When assigning a value to a variable, we don't have to explicitly declare the type of a variable since Python determines the type based on the assigned values. However, we use the function 'type()' to check the type of a variable."
   ]
  },
  {
   "cell_type": "code",
   "execution_count": 3,
   "id": "479ca462",
   "metadata": {},
   "outputs": [
    {
     "data": {
      "text/plain": [
       "int"
      ]
     },
     "execution_count": 3,
     "metadata": {},
     "output_type": "execute_result"
    }
   ],
   "source": [
    "# Checking the data type of variable 'x'\n",
    "type(x)"
   ]
  },
  {
   "cell_type": "code",
   "execution_count": 4,
   "id": "6326112b",
   "metadata": {},
   "outputs": [
    {
     "data": {
      "text/plain": [
       "str"
      ]
     },
     "execution_count": 4,
     "metadata": {},
     "output_type": "execute_result"
    }
   ],
   "source": [
    "# Checking the data type of variable 'ice_cream_flavour'\n",
    "type(ice_cream_flavour)"
   ]
  },
  {
   "cell_type": "markdown",
   "id": "fa2c3633",
   "metadata": {},
   "source": [
    "### Assigning values to multiple variables\n",
    "We can also assign values to multiple variables in a single line of code as shown below."
   ]
  },
  {
   "cell_type": "code",
   "execution_count": 7,
   "id": "fcc603d6",
   "metadata": {},
   "outputs": [
    {
     "name": "stdout",
     "output_type": "stream",
     "text": [
      "Dairyland\n",
      "Salted Caramel\n",
      "660\n"
     ]
    }
   ],
   "source": [
    "# Assigning values to multiple variables in a single line\n",
    "brand,cream_flavour,price = 'Dairyland', 'Salted Caramel', 660\n",
    "\n",
    "\n",
    "# Printing the value of the variable 'brand'\n",
    "print(brand)\n",
    "\n",
    "# Printing the value of the variable 'cream_flavour'\n",
    "print(cream_flavour)\n",
    "\n",
    "# Printing the value of the variable 'price'\n",
    "print(price)"
   ]
  },
  {
   "cell_type": "markdown",
   "id": "c09018e8",
   "metadata": {},
   "source": [
    "## Assigning one value to multiple variables"
   ]
  },
  {
   "cell_type": "code",
   "execution_count": 5,
   "id": "5a98df01",
   "metadata": {},
   "outputs": [
    {
     "name": "stdout",
     "output_type": "stream",
     "text": [
      "Ice cream brand\n",
      "Ice cream brand\n",
      "Ice cream brand\n"
     ]
    }
   ],
   "source": [
    "# Assigning the string 'Ice cream brand' to multiple variables (dairyland, creambell, lyons_maid)\n",
    "dairyland = creambell = lyons_maid = 'Ice cream brand'\n",
    "\n",
    "print(dairyland)\n",
    "print(creambell)\n",
    "print(lyons_maid)"
   ]
  },
  {
   "cell_type": "markdown",
   "id": "9338df94",
   "metadata": {},
   "source": [
    "### Assigning lists to variables"
   ]
  },
  {
   "cell_type": "code",
   "execution_count": 7,
   "id": "a0526d4f",
   "metadata": {},
   "outputs": [
    {
     "name": "stdout",
     "output_type": "stream",
     "text": [
      "Salted caramel is my favourite ice cream flavour from dairyland\n",
      "Classic vanilla is my favourite ice cream flavour from creambell\n",
      "Lemon and Lime is my favourite ice cream flavour from lyons maid\n"
     ]
    }
   ],
   "source": [
    "# Creating a list of favorite ice cream flavors\n",
    "favourite_flavours = ['Salted caramel', 'Classic vanilla', 'Lemon and Lime']\n",
    "\n",
    "# Assigning elements from the list of favorite ice cream flavors to individual variables representing different ice cream brands\n",
    "dairyland, creambell, lyons_maid = favourite_flavours\n",
    "\n",
    "# Printing the assigned values\n",
    "print(dairyland, 'is my favourite ice cream flavour from dairyland')\n",
    "print(creambell, 'is my favourite ice cream flavour from creambell')\n",
    "print(lyons_maid, 'is my favourite ice cream flavour from lyons maid')\n"
   ]
  },
  {
   "cell_type": "markdown",
   "id": "f755bb65",
   "metadata": {},
   "source": [
    "### Variable reassignment\n",
    "We can overwrite a previous variable by assigning a new value to it.\n",
    "We had assigned the value 'Mint chocolate chip' to the variable ice_cream_flavour. We will assign a new value 'Choc chip' to this variable"
   ]
  },
  {
   "cell_type": "code",
   "execution_count": 10,
   "id": "44af421d",
   "metadata": {},
   "outputs": [
    {
     "name": "stdout",
     "output_type": "stream",
     "text": [
      "Choc chip\n",
      "Choc chip\n"
     ]
    }
   ],
   "source": [
    "# Printing the value of 'ice_cream_flavour' before its reassignment\n",
    "print(ice_cream_flavour)\n",
    "\n",
    "# Assigning the string 'Choc chip' to the variable 'ice_cream_flavour'\n",
    "ice_cream_flavour = 'Choc chip'\n",
    "\n",
    "# Printing the updated value of 'ice_cream_flavour'\n",
    "print(ice_cream_flavour)\n"
   ]
  },
  {
   "cell_type": "markdown",
   "id": "7f617675",
   "metadata": {},
   "source": [
    "### Variable naming rules\n",
    " - Variable names can only start with a letter that is (a-z or A-Z) or an underscore (_)\n",
    " - Variable names can contain letters, numbers and underscores\n",
    " - Variable names cannot start with a number\n",
    " - Variable names cannot be any of the Python keywords\n",
    " - Python is case sensitive, therefore variables such as 'TestVar', 'testvar' and 'testVar' are all different\n",
    " - Use mnemonic names that is variable names that will be easier for someone to understand and help us remember what we intend to store in them\n",
    "\n",
    "#### Techniques to use when writing variable names with more than one word"
   ]
  },
  {
   "cell_type": "code",
   "execution_count": 11,
   "id": "18240d3b",
   "metadata": {},
   "outputs": [
    {
     "name": "stdout",
     "output_type": "stream",
     "text": [
      "Vanilla swirl\n"
     ]
    }
   ],
   "source": [
    "# Using Camel Case to name variables\n",
    "# Each word except the first, starts with a capital letter\n",
    "secondFavouriteFlavour = 'Vanilla swirl'\n",
    "\n",
    "print(secondFavouriteFlavour)\n"
   ]
  },
  {
   "cell_type": "code",
   "execution_count": 14,
   "id": "76d9b28b",
   "metadata": {},
   "outputs": [
    {
     "name": "stdout",
     "output_type": "stream",
     "text": [
      "Strawberry\n"
     ]
    }
   ],
   "source": [
    "# Using Pascal case to name variables\n",
    "# For this technique, each word starts with a capital letter\n",
    "LeastFavouriteFlavour = 'Strawberry'\n",
    "\n",
    "print(LeastFavouriteFlavour)"
   ]
  },
  {
   "cell_type": "code",
   "execution_count": 15,
   "id": "018ffee5",
   "metadata": {},
   "outputs": [
    {
     "name": "stdout",
     "output_type": "stream",
     "text": [
      "Salted caramel\n"
     ]
    }
   ],
   "source": [
    "# Using Snake case to name variables\n",
    "# Each word is separated by an underscore (_)\n",
    "favourite_flavour = 'Salted caramel'\n",
    "\n",
    "print(favourite_flavour)"
   ]
  },
  {
   "cell_type": "code",
   "execution_count": null,
   "id": "9c5749db",
   "metadata": {},
   "outputs": [],
   "source": []
  }
 ],
 "metadata": {
  "kernelspec": {
   "display_name": "Python 3 (ipykernel)",
   "language": "python",
   "name": "python3"
  },
  "language_info": {
   "codemirror_mode": {
    "name": "ipython",
    "version": 3
   },
   "file_extension": ".py",
   "mimetype": "text/x-python",
   "name": "python",
   "nbconvert_exporter": "python",
   "pygments_lexer": "ipython3",
   "version": "3.11.5"
  }
 },
 "nbformat": 4,
 "nbformat_minor": 5
}
